{
 "cells": [
  {
   "cell_type": "markdown",
   "metadata": {
    "collapsed": true
   },
   "source": [
    "Exercise 3.1. Write a function named right_justify that takes a string named s as a parameter\n",
    "and prints the string with enough leading spaces so that the last letter of the string is in column 70\n",
    "of the display.\n",
    ">>> right_justify('monty')"
   ]
  },
  {
   "cell_type": "code",
   "execution_count": 1,
   "metadata": {
    "collapsed": false
   },
   "outputs": [
    {
     "name": "stdout",
     "output_type": "stream",
     "text": [
      "                                                                 monty\n"
     ]
    }
   ],
   "source": [
    "def right_justify(s):\n",
    "    print (' '*(70-len(s))+ s)\n",
    "\n",
    "right_justify('monty')"
   ]
  },
  {
   "cell_type": "markdown",
   "metadata": {},
   "source": [
    "Exercise 3.3. Note: This exercise should be done using only the statements and other features we\n",
    "have learned so far.\n",
    "1. Write a function that draws a grid like the following:\n",
    "+ - - - - + - - - - +\n",
    "| | |\n",
    "| | |\n",
    "| | |\n",
    "| | |\n",
    "+ - - - - + - - - - +\n",
    "| | |\n",
    "| | |\n",
    "| | |\n",
    "| | |\n",
    "+ - - - - + - - - - +"
   ]
  },
  {
   "cell_type": "code",
   "execution_count": 5,
   "metadata": {
    "collapsed": false
   },
   "outputs": [
    {
     "name": "stdout",
     "output_type": "stream",
     "text": [
      "+----------+----------+\n",
      "|          |          |          \n",
      "|          |          |          \n",
      "|          |          |          \n",
      "|          |          |          \n",
      "|          |          |          \n",
      "+----------+----------+\n",
      "|          |          |          \n",
      "|          |          |          \n",
      "|          |          |          \n",
      "|          |          |          \n",
      "|          |          |          \n",
      "+----------+----------+\n"
     ]
    }
   ],
   "source": [
    "def line1():\n",
    "    print ('+'+('-'*10)+'+'+('-'*10)+'+')\n",
    "\n",
    "def line2():\n",
    "    two = '|'+' '*10\n",
    "    print (two+two+two)  \n",
    "line1()\n",
    "line2()\n",
    "line2()\n",
    "line2()\n",
    "line2()\n",
    "line2()\n",
    "line1()\n",
    "line2()\n",
    "line2()\n",
    "line2()\n",
    "line2()\n",
    "line2()\n",
    "line1()"
   ]
  },
  {
   "cell_type": "code",
   "execution_count": null,
   "metadata": {
    "collapsed": false
   },
   "outputs": [],
   "source": [
    "\n"
   ]
  },
  {
   "cell_type": "code",
   "execution_count": null,
   "metadata": {
    "collapsed": true
   },
   "outputs": [],
   "source": []
  }
 ],
 "metadata": {
  "anaconda-cloud": {},
  "kernelspec": {
   "display_name": "Python [conda env:py36]",
   "language": "python",
   "name": "conda-env-py36-py"
  },
  "language_info": {
   "codemirror_mode": {
    "name": "ipython",
    "version": 3
   },
   "file_extension": ".py",
   "mimetype": "text/x-python",
   "name": "python",
   "nbconvert_exporter": "python",
   "pygments_lexer": "ipython3",
   "version": "3.6.1"
  }
 },
 "nbformat": 4,
 "nbformat_minor": 1
}
